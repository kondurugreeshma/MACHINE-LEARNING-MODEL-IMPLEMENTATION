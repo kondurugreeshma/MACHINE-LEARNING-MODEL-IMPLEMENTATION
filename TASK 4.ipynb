{
 "cells": [
  {
   "cell_type": "code",
   "execution_count": 9,
   "id": "1a75807f-6610-409b-a64b-5b905c3de0d7",
   "metadata": {},
   "outputs": [
    {
     "name": "stdout",
     "output_type": "stream",
     "text": [
      "Current Working Directory: C:\\Users\\greeshma k\n",
      "Accuracy: 0.9668161434977578\n",
      "\n",
      "Classification Report:\n",
      "              precision    recall  f1-score   support\n",
      "\n",
      "           0       0.96      1.00      0.98       965\n",
      "           1       1.00      0.75      0.86       150\n",
      "\n",
      "    accuracy                           0.97      1115\n",
      "   macro avg       0.98      0.88      0.92      1115\n",
      "weighted avg       0.97      0.97      0.96      1115\n",
      "\n"
     ]
    },
    {
     "data": {
      "image/png": "[encoded data removed]",
      "text/plain": [
       "<Figure size 600x500 with 2 Axes>"
      ]
     },
     "metadata": {},
     "output_type": "display_data"
    }
   ],
   "source": [
    "# Import necessary libraries\n",
    "import pandas as pd\n",
    "import os\n",
    "from sklearn.model_selection import train_test_split\n",
    "from sklearn.feature_extraction.text import TfidfVectorizer\n",
    "from sklearn.naive_bayes import MultinomialNB\n",
    "from sklearn.metrics import accuracy_score, classification_report, confusion_matrix\n",
    "import matplotlib.pyplot as plt\n",
    "import seaborn as sns\n",
    "\n",
    "# Step 1: Check the current working directory\n",
    "print(\"Current Working Directory:\", os.getcwd())  # This will print the directory path\n",
    "\n",
    "# Ensure that the 'spam.csv' file is in the same directory or specify the correct path\n",
    "# Step 2: Load the dataset (provide correct path if file is in a different directory)\n",
    "# The file 'spam.csv' should be in the same directory as your notebook.\n",
    "file_path = 'spam.csv'  # You can update the path if needed\n",
    "\n",
    "try:\n",
    "    df = pd.read_csv(file_path, encoding='latin-1')  # Load the dataset\n",
    "except FileNotFoundError:\n",
    "    print(\"File not found! Please ensure that the 'spam.csv' file is in the correct path.\")\n",
    "    \n",
    "# Step 3: Preprocess the dataset\n",
    "# Select relevant columns and rename them for clarity\n",
    "df = df[['v1', 'v2']]  # 'v1' is the label, 'v2' is the message content\n",
    "df.columns = ['label', 'message']  # Rename columns to 'label' and 'message'\n",
    "\n",
    "# Convert labels to binary format: 'ham' = 0, 'spam' = 1\n",
    "df['label'] = df['label'].map({'ham': 0, 'spam': 1})\n",
    "\n",
    "# Step 4: Split the data into features (X) and target (y)\n",
    "X = df['message']  # Features (messages)\n",
    "y = df['label']    # Target variable (0 or 1)\n",
    "\n",
    "# Step 5: Split the dataset into training and testing sets (80% train, 20% test)\n",
    "X_train, X_test, y_train, y_test = train_test_split(X, y, test_size=0.2, random_state=42)\n",
    "\n",
    "# Step 6: Convert text data into numerical features using TF-IDF\n",
    "tfidf = TfidfVectorizer(stop_words='english')  # Remove stopwords for better performance\n",
    "X_train_tfidf = tfidf.fit_transform(X_train)  # Fit on training data\n",
    "X_test_tfidf = tfidf.transform(X_test)  # Transform the test data\n",
    "\n",
    "# Step 7: Train the Naive Bayes model\n",
    "model = MultinomialNB()  # Naive Bayes model for classification\n",
    "model.fit(X_train_tfidf, y_train)  # Train the model on the training data\n",
    "\n",
    "# Step 8: Make predictions on the test set\n",
    "y_pred = model.predict(X_test_tfidf)\n",
    "\n",
    "# Step 9: Evaluate the model\n",
    "# Print accuracy score\n",
    "accuracy = accuracy_score(y_test, y_pred)\n",
    "print(f\"Accuracy: {accuracy}\")\n",
    "\n",
    "# Print classification report (Precision, Recall, F1-Score)\n",
    "print(\"\\nClassification Report:\")\n",
    "print(classification_report(y_test, y_pred))\n",
    "\n",
    "# Step 10: Confusion Matrix Visualization\n",
    "conf_matrix = confusion_matrix(y_test, y_pred)\n",
    "\n",
    "# Plot the confusion matrix using Seaborn\n",
    "plt.figure(figsize=(6, 5))\n",
    "sns.heatmap(conf_matrix, annot=True, fmt=\"d\", cmap=\"Blues\", xticklabels=[\"Ham\", \"Spam\"], yticklabels=[\"Ham\", \"Spam\"])\n",
    "plt.xlabel(\"Predicted\")\n",
    "plt.ylabel(\"Actual\")\n",
    "plt.title(\"Confusion Matrix\")\n",
    "plt.show()\n"
   ]
  },
  {
   "cell_type": "code",
   "execution_count": null,
   "id": "6659318f-f6c9-4570-ab1f-c4526a4f1cc3",
   "metadata": {},
   "outputs": [],
   "source": []
  }
 ],
 "metadata": {
  "kernelspec": {
   "display_name": "Python [conda env:base] *",
   "language": "python",
   "name": "conda-base-py"
  },
  "language_info": {
   "codemirror_mode": {
    "name": "ipython",
    "version": 3
   },
   "file_extension": ".py",
   "mimetype": "text/x-python",
   "name": "python",
   "nbconvert_exporter": "python",
   "pygments_lexer": "ipython3",
   "version": "3.12.7"
  }
 },
 "nbformat": 4,
 "nbformat_minor": 5
}
